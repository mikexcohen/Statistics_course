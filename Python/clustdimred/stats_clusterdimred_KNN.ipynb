{
 "cells": [
  {
   "cell_type": "markdown",
   "metadata": {},
   "source": [
    "# COURSE: Master statistics and machine learning: Intuition, Math, code\n",
    "##### COURSE URL: udemy.com/course/statsml_x/?couponCode=202304 \n",
    "## SECTION: Clustering and dimension-reduction\n",
    "### VIDEO: K-nearest neighbor\n",
    "#### TEACHER: Mike X Cohen, sincxpress.com"
   ]
  },
  {
   "cell_type": "code",
   "execution_count": null,
   "metadata": {},
   "outputs": [],
   "source": [
    "import numpy as np\n",
    "import matplotlib.pyplot as plt\n",
    "from scipy import stats\n",
    "from sklearn.neighbors import KNeighborsClassifier"
   ]
  },
  {
   "cell_type": "code",
   "execution_count": null,
   "metadata": {},
   "outputs": [],
   "source": [
    "## Create data\n",
    "\n",
    "nPerClust = 50\n",
    "\n",
    "# XY centroid locations\n",
    "A = [  1, 0 ]\n",
    "B = [ -1, 0 ]\n",
    "\n",
    "# generate data\n",
    "a = [ A[0]+np.random.randn(nPerClust) , A[1]+np.random.randn(nPerClust) ]\n",
    "b = [ B[0]+np.random.randn(nPerClust) , B[1]+np.random.randn(nPerClust) ]\n",
    "\n",
    "# concatanate into a list\n",
    "data = np.transpose( np.concatenate((a,b),axis=1) )\n",
    "grouplabels = np.concatenate((np.zeros(nPerClust),np.ones(nPerClust)))\n",
    "\n",
    "# group color assignment\n",
    "groupcolors = 'br'\n",
    "\n",
    "# show the data\n",
    "fig,ax = plt.subplots(1)\n",
    "ax.plot(data[grouplabels==0,0],data[grouplabels==0,1],'ks',markerfacecolor=groupcolors[0])\n",
    "ax.plot(data[grouplabels==1,0],data[grouplabels==1,1],'ks',markerfacecolor=groupcolors[1])\n",
    "plt.show()"
   ]
  },
  {
   "cell_type": "code",
   "execution_count": null,
   "metadata": {},
   "outputs": [],
   "source": [
    "## compute distance matrix\n",
    "\n",
    "# initialize\n",
    "distmat = np.zeros((nPerClust*2,nPerClust*2))\n",
    "\n",
    "# loop over elements\n",
    "for i in range(nPerClust*2):\n",
    "    for j in range(nPerClust*2):\n",
    "        distmat[i,j] = np.sqrt( (data[i,0]-data[j,0])**2 + (data[i,1]-data[j,1])**2 )\n",
    "\n",
    "plt.imshow(distmat,vmax=4)\n",
    "plt.show()"
   ]
  },
  {
   "cell_type": "code",
   "execution_count": null,
   "metadata": {},
   "outputs": [],
   "source": [
    "## create the new data point\n",
    "\n",
    "# random new point\n",
    "newpoint = 2*np.random.rand(2)-1\n",
    "\n",
    "# and plot it\n",
    "ax.plot(newpoint[0],newpoint[1],'ko',MarkerFaceColor='g',markersize=15)\n",
    "fig"
   ]
  },
  {
   "cell_type": "code",
   "execution_count": null,
   "metadata": {},
   "outputs": [],
   "source": [
    "# compute distance vector\n",
    "distvec = np.zeros(nPerClust*2)\n",
    "\n",
    "for i in range(nPerClust*2):\n",
    "    distvec[i] = np.sqrt( (data[i,0]-newpoint[0])**2 + (data[i,1]-newpoint[1])**2 )\n",
    "    \n",
    "\n",
    "# show the distances\n",
    "plt.plot(distvec,'s',markerfacecolor='k')\n",
    "plt.xlabel('Data element index')\n",
    "plt.ylabel('Distance to new point')\n",
    "plt.show()"
   ]
  },
  {
   "cell_type": "code",
   "execution_count": null,
   "metadata": {},
   "outputs": [],
   "source": [
    "## now for the labeling\n",
    "\n",
    "# k parameter\n",
    "k = 3\n",
    "\n",
    "# sort the distances\n",
    "sortidx = np.argsort(distvec)\n",
    "\n",
    "# find the group assignment of the nearest neighbors\n",
    "print(grouplabels[sortidx[:k]])\n",
    "whichgroup = int( np.median(grouplabels[sortidx[:k]]) )\n",
    "print('New data belong to group ' + str(whichgroup))\n",
    "\n",
    "# and re-plot\n",
    "ax.plot(newpoint[0],newpoint[1],'ko',MarkerFaceColor='g',markersize=15)\n",
    "ax.plot(newpoint[0],newpoint[1],'ko',MarkerFaceColor=groupcolors[whichgroup])\n",
    "ax.plot(data[sortidx[:k],0],data[sortidx[:k],1],'ko',markersize=10,fillstyle='none')\n",
    "fig"
   ]
  },
  {
   "cell_type": "code",
   "execution_count": null,
   "metadata": {},
   "outputs": [],
   "source": [
    "## now using Python functions\n",
    "knn = KNeighborsClassifier(n_neighbors=k, metric='euclidean')\n",
    "knn.fit(data,grouplabels)\n",
    "\n",
    "whichgroupP = knn.predict(newpoint.reshape(1,-1))\n",
    "\n",
    "print('New data belong to group ' + str(whichgroupP[0]))"
   ]
  }
 ],
 "metadata": {
  "kernelspec": {
   "display_name": "Python 3",
   "language": "python",
   "name": "python3"
  },
  "language_info": {
   "codemirror_mode": {
    "name": "ipython",
    "version": 3
   },
   "file_extension": ".py",
   "mimetype": "text/x-python",
   "name": "python",
   "nbconvert_exporter": "python",
   "pygments_lexer": "ipython3",
   "version": "3.7.4"
  }
 },
 "nbformat": 4,
 "nbformat_minor": 2
}
